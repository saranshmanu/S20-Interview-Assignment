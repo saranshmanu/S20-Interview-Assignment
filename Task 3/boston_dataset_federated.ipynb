{
 "cells": [
  {
   "cell_type": "code",
   "execution_count": 4,
   "metadata": {},
   "outputs": [
    {
     "name": "stdout",
     "output_type": "stream",
     "text": [
      "Setting up Sandbox...\n",
      "Done!\n"
     ]
    }
   ],
   "source": [
    "import torch as th\n",
    "import syft as sy\n",
    "sy.create_sandbox(globals(), verbose=False)"
   ]
  },
  {
   "cell_type": "code",
   "execution_count": 5,
   "metadata": {},
   "outputs": [],
   "source": [
    "boston_data = grid.search(\"#boston\", \"#data\", verbose=False, return_counter=False)\n",
    "boston_target = grid.search(\"#boston\", \"#target\", verbose=False, return_counter=False)"
   ]
  },
  {
   "cell_type": "code",
   "execution_count": 6,
   "metadata": {},
   "outputs": [],
   "source": [
    "n_features = boston_data['alice'][0].shape[1]\n",
    "n_targets = 1\n",
    "model = th.nn.Linear(n_features, n_targets)\n",
    "optimizer = th.optim.SGD(params=model.parameters(),lr=0.0000001)"
   ]
  },
  {
   "cell_type": "code",
   "execution_count": 7,
   "metadata": {},
   "outputs": [
    {
     "name": "stdout",
     "output_type": "stream",
     "text": [
      "['bob', 'theo', 'jason', 'alice', 'andy', 'jon']\n"
     ]
    }
   ],
   "source": [
    "datasets = []\n",
    "for worker in boston_data.keys():\n",
    "    dataset = sy.BaseDataset(boston_data[worker][0], boston_target[worker][0])\n",
    "    datasets.append(dataset)\n",
    "\n",
    "# Build the FederatedDataset object\n",
    "dataset = sy.FederatedDataset(datasets)\n",
    "print(dataset.workers)"
   ]
  },
  {
   "cell_type": "code",
   "execution_count": 8,
   "metadata": {},
   "outputs": [],
   "source": [
    "train_loader = sy.FederatedDataLoader(dataset, batch_size=4, shuffle=False, drop_last=False)"
   ]
  },
  {
   "cell_type": "code",
   "execution_count": 9,
   "metadata": {},
   "outputs": [
    {
     "name": "stdout",
     "output_type": "stream",
     "text": [
      "Train Epoch: 1 [0/127 (0%)]\tLoss: 176164.875000\n",
      "Train Epoch: 1 [80/127 (16%)]\tLoss: 3321.710693\n",
      "Train Epoch: 1 [160/127 (31%)]\tLoss: 6845.711914\n",
      "Train Epoch: 1 [240/127 (47%)]\tLoss: 144.904556\n",
      "Train Epoch: 1 [320/127 (63%)]\tLoss: 84.200249\n",
      "Train Epoch: 1 [400/127 (79%)]\tLoss: 9969.619141\n",
      "Train Epoch: 1 [480/127 (94%)]\tLoss: 2671.954590\n",
      "Total loss 584632.6335096359\n",
      "Train Epoch: 2 [0/127 (0%)]\tLoss: 2663.337402\n",
      "Train Epoch: 2 [80/127 (16%)]\tLoss: 2031.335938\n",
      "Train Epoch: 2 [160/127 (31%)]\tLoss: 6173.493164\n",
      "Train Epoch: 2 [240/127 (47%)]\tLoss: 173.049606\n",
      "Train Epoch: 2 [320/127 (63%)]\tLoss: 81.156303\n",
      "Train Epoch: 2 [400/127 (79%)]\tLoss: 7798.106934\n",
      "Train Epoch: 2 [480/127 (94%)]\tLoss: 3138.456787\n",
      "Total loss 333255.1352519989\n",
      "Train Epoch: 3 [0/127 (0%)]\tLoss: 2551.894531\n",
      "Train Epoch: 3 [80/127 (16%)]\tLoss: 1743.522339\n",
      "Train Epoch: 3 [160/127 (31%)]\tLoss: 6085.834961\n",
      "Train Epoch: 3 [240/127 (47%)]\tLoss: 196.500687\n",
      "Train Epoch: 3 [320/127 (63%)]\tLoss: 80.509933\n",
      "Train Epoch: 3 [400/127 (79%)]\tLoss: 7159.819336\n",
      "Train Epoch: 3 [480/127 (94%)]\tLoss: 3220.587891\n",
      "Total loss 313413.5638694763\n",
      "Train Epoch: 4 [0/127 (0%)]\tLoss: 2516.392090\n",
      "Train Epoch: 4 [80/127 (16%)]\tLoss: 1596.929810\n",
      "Train Epoch: 4 [160/127 (31%)]\tLoss: 6082.585449\n",
      "Train Epoch: 4 [240/127 (47%)]\tLoss: 218.121933\n",
      "Train Epoch: 4 [320/127 (63%)]\tLoss: 80.112762\n",
      "Train Epoch: 4 [400/127 (79%)]\tLoss: 6771.194336\n",
      "Train Epoch: 4 [480/127 (94%)]\tLoss: 3244.326416\n",
      "Total loss 300686.7963294983\n",
      "Train Epoch: 5 [0/127 (0%)]\tLoss: 2494.969482\n",
      "Train Epoch: 5 [80/127 (16%)]\tLoss: 1483.269165\n",
      "Train Epoch: 5 [160/127 (31%)]\tLoss: 6092.062012\n",
      "Train Epoch: 5 [240/127 (47%)]\tLoss: 238.352356\n",
      "Train Epoch: 5 [320/127 (63%)]\tLoss: 79.811646\n",
      "Train Epoch: 5 [400/127 (79%)]\tLoss: 6451.473633\n",
      "Train Epoch: 5 [480/127 (94%)]\tLoss: 3261.051514\n",
      "Total loss 290302.0466957092\n",
      "Train Epoch: 6 [0/127 (0%)]\tLoss: 2477.967285\n",
      "Train Epoch: 6 [80/127 (16%)]\tLoss: 1385.468140\n",
      "Train Epoch: 6 [160/127 (31%)]\tLoss: 6103.265137\n",
      "Train Epoch: 6 [240/127 (47%)]\tLoss: 257.213287\n",
      "Train Epoch: 6 [320/127 (63%)]\tLoss: 79.583488\n",
      "Train Epoch: 6 [400/127 (79%)]\tLoss: 6169.858398\n",
      "Train Epoch: 6 [480/127 (94%)]\tLoss: 3277.760254\n",
      "Total loss 281365.404964447\n",
      "Train Epoch: 7 [0/127 (0%)]\tLoss: 2463.535156\n",
      "Train Epoch: 7 [80/127 (16%)]\tLoss: 1299.549683\n",
      "Train Epoch: 7 [160/127 (31%)]\tLoss: 6114.365234\n",
      "Train Epoch: 7 [240/127 (47%)]\tLoss: 274.698029\n",
      "Train Epoch: 7 [320/127 (63%)]\tLoss: 79.421333\n",
      "Train Epoch: 7 [400/127 (79%)]\tLoss: 5918.023438\n",
      "Train Epoch: 7 [480/127 (94%)]\tLoss: 3294.843994\n",
      "Total loss 273569.4634857178\n",
      "Train Epoch: 8 [0/127 (0%)]\tLoss: 2451.062256\n",
      "Train Epoch: 8 [80/127 (16%)]\tLoss: 1223.651367\n",
      "Train Epoch: 8 [160/127 (31%)]\tLoss: 6124.953613\n",
      "Train Epoch: 8 [240/127 (47%)]\tLoss: 290.824524\n",
      "Train Epoch: 8 [320/127 (63%)]\tLoss: 79.318703\n",
      "Train Epoch: 8 [400/127 (79%)]\tLoss: 5691.523438\n",
      "Train Epoch: 8 [480/127 (94%)]\tLoss: 3311.812988\n",
      "Total loss 266724.245677948\n",
      "Train Epoch: 9 [0/127 (0%)]\tLoss: 2440.188477\n",
      "Train Epoch: 9 [80/127 (16%)]\tLoss: 1156.412964\n",
      "Train Epoch: 9 [160/127 (31%)]\tLoss: 6134.872559\n",
      "Train Epoch: 9 [240/127 (47%)]\tLoss: 305.636139\n",
      "Train Epoch: 9 [320/127 (63%)]\tLoss: 79.268181\n",
      "Train Epoch: 9 [400/127 (79%)]\tLoss: 5487.016602\n",
      "Train Epoch: 9 [480/127 (94%)]\tLoss: 3328.183594\n",
      "Total loss 260682.71027374268\n",
      "Train Epoch: 10 [0/127 (0%)]\tLoss: 2430.636230\n",
      "Train Epoch: 10 [80/127 (16%)]\tLoss: 1096.703979\n",
      "Train Epoch: 10 [160/127 (31%)]\tLoss: 6144.037109\n",
      "Train Epoch: 10 [240/127 (47%)]\tLoss: 319.187408\n",
      "Train Epoch: 10 [320/127 (63%)]\tLoss: 79.261414\n",
      "Train Epoch: 10 [400/127 (79%)]\tLoss: 5301.683594\n",
      "Train Epoch: 10 [480/127 (94%)]\tLoss: 3343.577148\n",
      "Total loss 255324.1610507965\n"
     ]
    }
   ],
   "source": [
    "epochs = 10\n",
    "for epoch in range(1, epochs + 1):\n",
    "    loss_accum = 0\n",
    "    for batch_idx, (data, target) in enumerate(train_loader):\n",
    "\n",
    "        model.send(data.location)\n",
    "        \n",
    "        optimizer.zero_grad()\n",
    "        pred = model(data)\n",
    "        loss = ((pred - target)**2).sum()\n",
    "        loss.backward()\n",
    "        optimizer.step()\n",
    "        \n",
    "        model.get()\n",
    "        loss = loss.get()\n",
    "        \n",
    "        loss_accum += float(loss)\n",
    "        \n",
    "        if batch_idx % 20 == 0:\n",
    "            print('Train Epoch: {} [{}/{} ({:.0f}%)]\\tLoss: {:.6f}'.format(\n",
    "                epoch, batch_idx * data.shape[0], len(train_loader),\n",
    "                       100. * batch_idx / len(train_loader), loss.item()))\n",
    "            \n",
    "            \n",
    "    print('Total loss', loss_accum)"
   ]
  },
  {
   "cell_type": "code",
   "execution_count": 12,
   "metadata": {},
   "outputs": [
    {
     "data": {
      "text/plain": [
       "<syft.frameworks.torch.federated.dataset.BaseDataset at 0x1a474789e8>"
      ]
     },
     "execution_count": 12,
     "metadata": {},
     "output_type": "execute_result"
    }
   ],
   "source": [
    "dataset.datasets[\"bob\"]."
   ]
  },
  {
   "cell_type": "code",
   "execution_count": null,
   "metadata": {},
   "outputs": [],
   "source": []
  }
 ],
 "metadata": {
  "kernelspec": {
   "display_name": "Python 3",
   "language": "python",
   "name": "python3"
  },
  "language_info": {
   "codemirror_mode": {
    "name": "ipython",
    "version": 3
   },
   "file_extension": ".py",
   "mimetype": "text/x-python",
   "name": "python",
   "nbconvert_exporter": "python",
   "pygments_lexer": "ipython3",
   "version": "3.7.3"
  }
 },
 "nbformat": 4,
 "nbformat_minor": 2
}
